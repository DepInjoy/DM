{
 "cells": [
  {
   "cell_type": "markdown",
   "metadata": {},
   "source": [
    "# [DataFountain:阿尔茨海默症的识别](https://www.datafountain.cn/competitions/369/datasets)\n",
    "\n",
    "## 数据特点\n",
    "\n",
    "- 训练数据集，数据格式为h5,主键为data。该数据集共有300例数据，数据结构为(300,1,79,95,79)，其中300表示采样的个体，1代表通道数，每个单个样本的结构是(79,95,79)，其中79表示MRI数据采样的切片数，`95*79`代表每个切片的图像。\n",
    "- 训练集的标注结果，样本的标签文件包含id和label字段，其中id表示图像序号，label表示图像对应的标签，0代表阿尔茨海默症样本，1代表轻度认知障碍样本，2代表正常样本。"
   ]
  },
  {
   "cell_type": "code",
   "execution_count": 1,
   "metadata": {},
   "outputs": [],
   "source": [
    "import os\n",
    "import h5py\n",
    "import imageio\n",
    "import pandas as pd\n",
    "import numpy as np\n",
    "from PIL import Image"
   ]
  },
  {
   "cell_type": "code",
   "execution_count": 3,
   "metadata": {},
   "outputs": [],
   "source": [
    "train = h5py.File(\"./data/train/train_pre_data.h5\")\n",
    "df_labels = pd.read_csv(\"./data/train/train_pre_label.csv\")"
   ]
  },
  {
   "cell_type": "markdown",
   "metadata": {},
   "source": [
    "查看所有的主键"
   ]
  },
  {
   "cell_type": "code",
   "execution_count": 20,
   "metadata": {},
   "outputs": [
    {
     "data": {
      "text/plain": [
       "['data']"
      ]
     },
     "execution_count": 20,
     "metadata": {},
     "output_type": "execute_result"
    }
   ],
   "source": [
    "[key for key in train.keys()]"
   ]
  },
  {
   "cell_type": "code",
   "execution_count": 4,
   "metadata": {},
   "outputs": [
    {
     "data": {
      "text/html": [
       "<div>\n",
       "<style scoped>\n",
       "    .dataframe tbody tr th:only-of-type {\n",
       "        vertical-align: middle;\n",
       "    }\n",
       "\n",
       "    .dataframe tbody tr th {\n",
       "        vertical-align: top;\n",
       "    }\n",
       "\n",
       "    .dataframe thead th {\n",
       "        text-align: right;\n",
       "    }\n",
       "</style>\n",
       "<table border=\"1\" class=\"dataframe\">\n",
       "  <thead>\n",
       "    <tr style=\"text-align: right;\">\n",
       "      <th></th>\n",
       "      <th>id</th>\n",
       "      <th>label</th>\n",
       "    </tr>\n",
       "  </thead>\n",
       "  <tbody>\n",
       "    <tr>\n",
       "      <th>0</th>\n",
       "      <td>0</td>\n",
       "      <td>1</td>\n",
       "    </tr>\n",
       "    <tr>\n",
       "      <th>1</th>\n",
       "      <td>1</td>\n",
       "      <td>0</td>\n",
       "    </tr>\n",
       "    <tr>\n",
       "      <th>2</th>\n",
       "      <td>2</td>\n",
       "      <td>0</td>\n",
       "    </tr>\n",
       "    <tr>\n",
       "      <th>3</th>\n",
       "      <td>3</td>\n",
       "      <td>1</td>\n",
       "    </tr>\n",
       "    <tr>\n",
       "      <th>4</th>\n",
       "      <td>4</td>\n",
       "      <td>0</td>\n",
       "    </tr>\n",
       "  </tbody>\n",
       "</table>\n",
       "</div>"
      ],
      "text/plain": [
       "   id  label\n",
       "0   0      1\n",
       "1   1      0\n",
       "2   2      0\n",
       "3   3      1\n",
       "4   4      0"
      ]
     },
     "execution_count": 4,
     "metadata": {},
     "output_type": "execute_result"
    }
   ],
   "source": [
    "df_labels.head()"
   ]
  },
  {
   "cell_type": "code",
   "execution_count": 7,
   "metadata": {},
   "outputs": [
    {
     "data": {
      "text/html": [
       "<div>\n",
       "<style scoped>\n",
       "    .dataframe tbody tr th:only-of-type {\n",
       "        vertical-align: middle;\n",
       "    }\n",
       "\n",
       "    .dataframe tbody tr th {\n",
       "        vertical-align: top;\n",
       "    }\n",
       "\n",
       "    .dataframe thead th {\n",
       "        text-align: right;\n",
       "    }\n",
       "</style>\n",
       "<table border=\"1\" class=\"dataframe\">\n",
       "  <thead>\n",
       "    <tr style=\"text-align: right;\">\n",
       "      <th></th>\n",
       "      <th>label_0</th>\n",
       "      <th>label_1</th>\n",
       "      <th>label_2</th>\n",
       "    </tr>\n",
       "  </thead>\n",
       "  <tbody>\n",
       "    <tr>\n",
       "      <th>0</th>\n",
       "      <td>0</td>\n",
       "      <td>1</td>\n",
       "      <td>0</td>\n",
       "    </tr>\n",
       "    <tr>\n",
       "      <th>1</th>\n",
       "      <td>1</td>\n",
       "      <td>0</td>\n",
       "      <td>0</td>\n",
       "    </tr>\n",
       "    <tr>\n",
       "      <th>2</th>\n",
       "      <td>1</td>\n",
       "      <td>0</td>\n",
       "      <td>0</td>\n",
       "    </tr>\n",
       "    <tr>\n",
       "      <th>3</th>\n",
       "      <td>0</td>\n",
       "      <td>1</td>\n",
       "      <td>0</td>\n",
       "    </tr>\n",
       "    <tr>\n",
       "      <th>4</th>\n",
       "      <td>1</td>\n",
       "      <td>0</td>\n",
       "      <td>0</td>\n",
       "    </tr>\n",
       "    <tr>\n",
       "      <th>...</th>\n",
       "      <td>...</td>\n",
       "      <td>...</td>\n",
       "      <td>...</td>\n",
       "    </tr>\n",
       "    <tr>\n",
       "      <th>295</th>\n",
       "      <td>0</td>\n",
       "      <td>0</td>\n",
       "      <td>1</td>\n",
       "    </tr>\n",
       "    <tr>\n",
       "      <th>296</th>\n",
       "      <td>0</td>\n",
       "      <td>1</td>\n",
       "      <td>0</td>\n",
       "    </tr>\n",
       "    <tr>\n",
       "      <th>297</th>\n",
       "      <td>0</td>\n",
       "      <td>1</td>\n",
       "      <td>0</td>\n",
       "    </tr>\n",
       "    <tr>\n",
       "      <th>298</th>\n",
       "      <td>1</td>\n",
       "      <td>0</td>\n",
       "      <td>0</td>\n",
       "    </tr>\n",
       "    <tr>\n",
       "      <th>299</th>\n",
       "      <td>0</td>\n",
       "      <td>0</td>\n",
       "      <td>1</td>\n",
       "    </tr>\n",
       "  </tbody>\n",
       "</table>\n",
       "<p>300 rows × 3 columns</p>\n",
       "</div>"
      ],
      "text/plain": [
       "     label_0  label_1  label_2\n",
       "0          0        1        0\n",
       "1          1        0        0\n",
       "2          1        0        0\n",
       "3          0        1        0\n",
       "4          1        0        0\n",
       "..       ...      ...      ...\n",
       "295        0        0        1\n",
       "296        0        1        0\n",
       "297        0        1        0\n",
       "298        1        0        0\n",
       "299        0        0        1\n",
       "\n",
       "[300 rows x 3 columns]"
      ]
     },
     "execution_count": 7,
     "metadata": {},
     "output_type": "execute_result"
    }
   ],
   "source": [
    "pd.get_dummies(df_labels[\"label\"], prefix=\"label\")"
   ]
  },
  {
   "cell_type": "markdown",
   "metadata": {},
   "source": [
    "### 可视化探索\n",
    "\n",
    "Python中常用的图像处理库为PIL，其中涉及的基本概念有:\n",
    "- 通道(Brand):每张图片由一个或者多个通道组成，对于RGB图像由R、G、B三个通道构成，而对于灰度图像则只有一个通道，可以通过getbrands()方法来获取通道信息。\n",
    "- 模式(Mode):图像的模式定义了图像的类型和像素的宽度，支持的模式有如下几种：\n",
    "    - 1:1位像素，表示黑和白，但是存储的时候每个像素存储为8bit.\n",
    "    - L:8位像素，表示黑和白.\n",
    "    - P:8位像素，使用调色板映射到其他模式。\n",
    "    - RGB:3x8位像素，为真彩色。\n",
    "    - RGBA:4x8位像素，有透明通道的真彩色。\n",
    "    - CMYK:4x8位像素，颜色分离。\n",
    "    - YCbCr:3x8位像素，彩色视频格式。\n",
    "    - I:32位整型像素。\n",
    "    - F:32位浮点型像素。\n",
    "- 尺寸(Size):图片的大小，二元数组，包含水平和垂直方向上的像素数。\n",
    "- 坐标系()\n",
    "- 调色板()\n",
    "- 信息()\n",
    "- 滤波器:将多个输入图像映射为一个输出像素的几何操作，支持4个不同采样滤波器：\n",
    "    - NEAREST:最近滤波器，从输入图像中选取最近的像素作为输出像素，忽略其他的所有像素\n",
    "    - BILINEAR:双线性滤波\n",
    "    - BICUBIC:双立方滤波\n",
    "    - ANTIALIAS:平滑滤波"
   ]
  },
  {
   "cell_type": "code",
   "execution_count": 42,
   "metadata": {},
   "outputs": [],
   "source": [
    "# 创建temp目录存放一些临时处理的结果\n",
    "dir_path = \"./temp/\"\n",
    "if not os.path.exists(dir_path):\n",
    "    os.mkdir(dir_path)"
   ]
  },
  {
   "cell_type": "code",
   "execution_count": 43,
   "metadata": {},
   "outputs": [],
   "source": [
    "idx = 0\n",
    "sample = train[\"data\"][idx, 0]\n",
    "image_seq = 40\n",
    "resize = 4\n",
    "image_width, image_height = sample[image_seq].shape\n",
    "sample_image = Image.fromarray(sample[image_seq]).convert(\"L\")\n",
    "#将图像放大4倍保存并查看\n",
    "sample_image.resize((image_width * resize, image_height * resize), Image.ANTIALIAS).save(dir_path + \"temp.jpg\")\n",
    "sample_image.show()"
   ]
  },
  {
   "cell_type": "code",
   "execution_count": 50,
   "metadata": {},
   "outputs": [],
   "source": [
    "frames = []\n",
    "for layer_img in one_sample:\n",
    "    img = Image.fromarray(layer_img).convert('L')\n",
    "    #将数据放大3倍\n",
    "    img.resize((image_width * 3, image_height * 3),Image.ANTIALIAS).save(dir_path + 'temp.jpg')\n",
    "    frames.append(imageio.imread(dir_path + 'temp.jpg'))\n",
    "imageio.mimsave(dir_path +'{0}.gif'.format(idx), frames, 'GIF', duration = 0.1)"
   ]
  },
  {
   "cell_type": "code",
   "execution_count": null,
   "metadata": {},
   "outputs": [],
   "source": []
  }
 ],
 "metadata": {
  "kernelspec": {
   "display_name": "Python 3",
   "language": "python",
   "name": "python3"
  },
  "language_info": {
   "codemirror_mode": {
    "name": "ipython",
    "version": 3
   },
   "file_extension": ".py",
   "mimetype": "text/x-python",
   "name": "python",
   "nbconvert_exporter": "python",
   "pygments_lexer": "ipython3",
   "version": "3.7.0"
  }
 },
 "nbformat": 4,
 "nbformat_minor": 2
}
