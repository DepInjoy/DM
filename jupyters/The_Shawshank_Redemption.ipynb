{
 "cells": [
  {
   "cell_type": "markdown",
   "metadata": {},
   "source": [
    "# 研究肖申克的救赎用户评论"
   ]
  },
  {
   "cell_type": "markdown",
   "metadata": {},
   "source": []
  },
  {
   "cell_type": "markdown",
   "metadata": {},
   "source": [
    "## 提出问题\n",
    "- 研究用户评论的关键词云\n",
    "- 提取用户名、点赞数、星级和评论"
   ]
  },
  {
   "cell_type": "markdown",
   "metadata": {},
   "source": [
    "## 数据整理"
   ]
  },
  {
   "cell_type": "code",
   "execution_count": 1,
   "metadata": {},
   "outputs": [],
   "source": [
    "import requests\n",
    "import json\n",
    "import pandas as pd\n",
    "import numpy as np\n",
    "from pyquery import PyQuery"
   ]
  },
  {
   "cell_type": "markdown",
   "metadata": {},
   "source": [
    "### 数据获取\n",
    "- User-Agent:告知服务器，客户机的软件环境"
   ]
  },
  {
   "cell_type": "code",
   "execution_count": 16,
   "metadata": {},
   "outputs": [],
   "source": [
    "url = \"https://movie.douban.com/subject/1292052/comments?start=40&limit=20&sort=new_score&status=P\"\n",
    "#url = \"https://movie.douban.com/subject/1292052/comments\"\n",
    "header = {\n",
    "    \"User-Agent\": \"Mozilla/5.0 (Windows NT 6.1; Win64; x64) AppleWebKit/537.36 (KHTML, like Gecko) Chrome/77.0.3865.120 Safari/537.36\"\n",
    "}"
   ]
  },
  {
   "cell_type": "code",
   "execution_count": 17,
   "metadata": {},
   "outputs": [],
   "source": [
    "# https://movie.douban.com/subject/1292052/comments?start=20&limit=20&sort=new_score&status=P\n",
    "query_string = {\n",
    "    \"start\": 20,\n",
    "    \"limit\": 20,\n",
    "    \"sort\": \"new_score\",\n",
    "    \"status\": \"P\"\n",
    "    \"percent_type\": \"h\"\n",
    "}"
   ]
  },
  {
   "cell_type": "code",
   "execution_count": 18,
   "metadata": {},
   "outputs": [
    {
     "data": {
      "text/plain": [
       "<Response [200]>"
      ]
     },
     "execution_count": 18,
     "metadata": {},
     "output_type": "execute_result"
    }
   ],
   "source": [
    "response = requests.get(url, headers = header)\n",
    "response"
   ]
  },
  {
   "cell_type": "code",
   "execution_count": 19,
   "metadata": {},
   "outputs": [],
   "source": [
    "# PyQuery来提取网页内容结构\n",
    "query = PyQuery(response.text)"
   ]
  },
  {
   "cell_type": "code",
   "execution_count": 20,
   "metadata": {},
   "outputs": [
    {
     "data": {
      "text/plain": [
       "['徐小花',\n",
       " '尽欢',\n",
       " '赫恩曼尼',\n",
       " '七沐妹妹',\n",
       " '如是',\n",
       " '百骨金titi',\n",
       " '雨滋味',\n",
       " '凉风有信',\n",
       " '九尾黑猫',\n",
       " '死鬼',\n",
       " '壳子',\n",
       " '毛驴哥',\n",
       " '緣盡',\n",
       " '厷糸',\n",
       " '苹果派甜',\n",
       " '安东妮',\n",
       " '与你走天涯',\n",
       " '谋杀游戏机',\n",
       " '顾俏乜',\n",
       " '欢乐分裂']"
      ]
     },
     "execution_count": 20,
     "metadata": {},
     "output_type": "execute_result"
    }
   ],
   "source": [
    "# 提取用户名\n",
    "user_id = [item(\"a\").text() for item in query(\"span.comment-info\").items()]\n",
    "user_id"
   ]
  },
  {
   "cell_type": "code",
   "execution_count": 21,
   "metadata": {},
   "outputs": [
    {
     "data": {
      "text/plain": [
       "['374',\n",
       " '152',\n",
       " '242',\n",
       " '110',\n",
       " '145',\n",
       " '89',\n",
       " '120',\n",
       " '169',\n",
       " '1779',\n",
       " '97',\n",
       " '106',\n",
       " '259',\n",
       " '80',\n",
       " '86',\n",
       " '86',\n",
       " '1183',\n",
       " '62',\n",
       " '124',\n",
       " '110',\n",
       " '73']"
      ]
     },
     "execution_count": 21,
     "metadata": {},
     "output_type": "execute_result"
    }
   ],
   "source": [
    "#获取点赞数\n",
    "votes = [item.text() for item in query(\"span.votes\").items()]\n",
    "votes"
   ]
  },
  {
   "cell_type": "code",
   "execution_count": 9,
   "metadata": {},
   "outputs": [
    {
     "data": {
      "text/plain": [
       "['5',\n",
       " '5',\n",
       " '5',\n",
       " '5',\n",
       " '5',\n",
       " '4',\n",
       " '5',\n",
       " '5',\n",
       " '5',\n",
       " '5',\n",
       " '4',\n",
       " '5',\n",
       " '5',\n",
       " '5',\n",
       " '5',\n",
       " '5',\n",
       " '5',\n",
       " '5',\n",
       " '5',\n",
       " '5']"
      ]
     },
     "execution_count": 9,
     "metadata": {},
     "output_type": "execute_result"
    }
   ],
   "source": [
    "# 获取星级\n",
    "rating = []\n",
    "# span.comment-info\n",
    "for item in query(\"span\").items():\n",
    "    if item.attr(\"class\") and (\"allstar\" in item.attr(\"class\")):\n",
    "        rating.append(item.attr(\"class\")[len(\"allstar\")])\n",
    "rating"
   ]
  },
  {
   "cell_type": "code",
   "execution_count": 10,
   "metadata": {},
   "outputs": [
    {
     "data": {
      "text/plain": [
       "['当年的奥斯卡颁奖礼上，被如日中天的《阿甘正传》掩盖了它的光彩，而随着时间的推移，这部电影在越来越多的人们心中的地位已超越了《阿甘》。每当现实令我疲惫得产生无力感，翻出这张碟，就重获力量。毫无疑问，本片位列男人必看的电影前三名！回顾那一段经典台词：“有的人的羽翼是如此光辉，即使世界上最黑暗的牢狱，也无法长久地将他围困！”',\n",
       " '不需要女主角的好电影',\n",
       " '恐惧让你沦为囚犯，希望让你重获自由。——《肖申克的救赎》',\n",
       " '“这是一部男人必看的电影。”人人都这么说。但单纯从性别区分，就会让这电影变狭隘。《肖申克的救赎》突破了男人电影的局限，通篇几乎充满令人难以置信的温馨基调，而电影里最伟大的主题是“希望”。 当我们无奈地遇到了如同肖申克一般囚禁了心灵自由的那种囹圄，我们是无奈的老布鲁克，灰心的瑞德，还是智慧的安迪？运用智慧，信任希望，并且勇敢面对恐惧心理，去打败它？ 经典的电影之所以经典，因为他们都在做同一件事——让你从不同的角度来欣赏希望的美好。',\n",
       " '策划了19年的私奔……',\n",
       " '人的生命不过是从一个洞穴通往另一个世界..然后在那个世界的雨中继续颤抖.i hope',\n",
       " '关于希望最强有力的注释。',\n",
       " '有种鸟是关不住的.',\n",
       " '超级喜欢超级喜欢,不看的话人生不圆满.',\n",
       " '忒经典的东西,我要带去我的坟墓',\n",
       " 'Hope is a good thing, and maybe the best thing of all.',\n",
       " 'Fear Can Hold You Prisoner, Hope Can Set You Free',\n",
       " '这样的男人谁会舍得背叛。。。',\n",
       " '没有人会不喜欢吧！书和电影都好。',\n",
       " '一部没有爱情与美女的电影,却光芒四射',\n",
       " '因为1994年台湾引进了一部比较卖座的老片The Sting，被错译成了《刺激》。到了1995年本片上映时，片商觉得其剧情与《刺激》有类似的地方（大概都属于高智商的复仇？），因此被译成了《刺激1995》，1998年又有一部片子Return To Paradise因为含有牢狱情节，被译成《刺激1998》！',\n",
       " 'hope is a good thing',\n",
       " '越狱我感觉就是改编自这个',\n",
       " '一部没有女主，没有爱情，没有特技的好片子，也是很多大学英语老师喜欢放给学生看的片子，这部片子讲诉的就是一个很纯粹的故事，一次的救赎，换回了自由，也是一种信念驱使他这么做，这部片子是感人的，它也让很多人成长。',\n",
       " '这部电影没什么好说的，史上最完美的电影，没有一秒尿尿时间！']"
      ]
     },
     "execution_count": 10,
     "metadata": {},
     "output_type": "execute_result"
    }
   ],
   "source": [
    "# 获取评论\n",
    "comments = [item.text() for item in query(\"span.short\").items()]\n",
    "comments"
   ]
  },
  {
   "cell_type": "markdown",
   "metadata": {},
   "source": [
    "创建Pandas表单"
   ]
  },
  {
   "cell_type": "code",
   "execution_count": 11,
   "metadata": {},
   "outputs": [
    {
     "data": {
      "text/html": [
       "<div>\n",
       "<style scoped>\n",
       "    .dataframe tbody tr th:only-of-type {\n",
       "        vertical-align: middle;\n",
       "    }\n",
       "\n",
       "    .dataframe tbody tr th {\n",
       "        vertical-align: top;\n",
       "    }\n",
       "\n",
       "    .dataframe thead th {\n",
       "        text-align: right;\n",
       "    }\n",
       "</style>\n",
       "<table border=\"1\" class=\"dataframe\">\n",
       "  <thead>\n",
       "    <tr style=\"text-align: right;\">\n",
       "      <th></th>\n",
       "      <th>user_id</th>\n",
       "      <th>votes</th>\n",
       "      <th>rating</th>\n",
       "      <th>comments</th>\n",
       "    </tr>\n",
       "  </thead>\n",
       "  <tbody>\n",
       "    <tr>\n",
       "      <th>0</th>\n",
       "      <td>犀牛</td>\n",
       "      <td>13789</td>\n",
       "      <td>5</td>\n",
       "      <td>当年的奥斯卡颁奖礼上，被如日中天的《阿甘正传》掩盖了它的光彩，而随着时间的推移，这部电影在越...</td>\n",
       "    </tr>\n",
       "    <tr>\n",
       "      <th>1</th>\n",
       "      <td>kingfish</td>\n",
       "      <td>24709</td>\n",
       "      <td>5</td>\n",
       "      <td>不需要女主角的好电影</td>\n",
       "    </tr>\n",
       "    <tr>\n",
       "      <th>2</th>\n",
       "      <td>如小果</td>\n",
       "      <td>14753</td>\n",
       "      <td>5</td>\n",
       "      <td>恐惧让你沦为囚犯，希望让你重获自由。——《肖申克的救赎》</td>\n",
       "    </tr>\n",
       "    <tr>\n",
       "      <th>3</th>\n",
       "      <td>Eve|Classified</td>\n",
       "      <td>6644</td>\n",
       "      <td>5</td>\n",
       "      <td>“这是一部男人必看的电影。”人人都这么说。但单纯从性别区分，就会让这电影变狭隘。《肖申克的救...</td>\n",
       "    </tr>\n",
       "    <tr>\n",
       "      <th>4</th>\n",
       "      <td>711|湯行運</td>\n",
       "      <td>12035</td>\n",
       "      <td>5</td>\n",
       "      <td>策划了19年的私奔……</td>\n",
       "    </tr>\n",
       "    <tr>\n",
       "      <th>5</th>\n",
       "      <td>文泽尔</td>\n",
       "      <td>2023</td>\n",
       "      <td>4</td>\n",
       "      <td>人的生命不过是从一个洞穴通往另一个世界..然后在那个世界的雨中继续颤抖.i hope</td>\n",
       "    </tr>\n",
       "    <tr>\n",
       "      <th>6</th>\n",
       "      <td>艾小柯</td>\n",
       "      <td>8067</td>\n",
       "      <td>5</td>\n",
       "      <td>关于希望最强有力的注释。</td>\n",
       "    </tr>\n",
       "    <tr>\n",
       "      <th>7</th>\n",
       "      <td>林隐</td>\n",
       "      <td>7612</td>\n",
       "      <td>5</td>\n",
       "      <td>有种鸟是关不住的.</td>\n",
       "    </tr>\n",
       "    <tr>\n",
       "      <th>8</th>\n",
       "      <td>寂地</td>\n",
       "      <td>4370</td>\n",
       "      <td>5</td>\n",
       "      <td>超级喜欢超级喜欢,不看的话人生不圆满.</td>\n",
       "    </tr>\n",
       "    <tr>\n",
       "      <th>9</th>\n",
       "      <td>seawaver</td>\n",
       "      <td>4212</td>\n",
       "      <td>5</td>\n",
       "      <td>忒经典的东西,我要带去我的坟墓</td>\n",
       "    </tr>\n",
       "    <tr>\n",
       "      <th>10</th>\n",
       "      <td>理想多钱一斤啊</td>\n",
       "      <td>1168</td>\n",
       "      <td>4</td>\n",
       "      <td>Hope is a good thing, and maybe the best thing...</td>\n",
       "    </tr>\n",
       "    <tr>\n",
       "      <th>11</th>\n",
       "      <td>影志</td>\n",
       "      <td>2058</td>\n",
       "      <td>5</td>\n",
       "      <td>Fear Can Hold You Prisoner, Hope Can Set You Free</td>\n",
       "    </tr>\n",
       "    <tr>\n",
       "      <th>12</th>\n",
       "      <td>葱</td>\n",
       "      <td>1692</td>\n",
       "      <td>5</td>\n",
       "      <td>这样的男人谁会舍得背叛。。。</td>\n",
       "    </tr>\n",
       "    <tr>\n",
       "      <th>13</th>\n",
       "      <td>珍妮的肖像</td>\n",
       "      <td>1429</td>\n",
       "      <td>5</td>\n",
       "      <td>没有人会不喜欢吧！书和电影都好。</td>\n",
       "    </tr>\n",
       "    <tr>\n",
       "      <th>14</th>\n",
       "      <td>veronique</td>\n",
       "      <td>1603</td>\n",
       "      <td>5</td>\n",
       "      <td>一部没有爱情与美女的电影,却光芒四射</td>\n",
       "    </tr>\n",
       "    <tr>\n",
       "      <th>15</th>\n",
       "      <td>咱说</td>\n",
       "      <td>473</td>\n",
       "      <td>5</td>\n",
       "      <td>因为1994年台湾引进了一部比较卖座的老片The Sting，被错译成了《刺激》。到了199...</td>\n",
       "    </tr>\n",
       "    <tr>\n",
       "      <th>16</th>\n",
       "      <td>眠去</td>\n",
       "      <td>698</td>\n",
       "      <td>5</td>\n",
       "      <td>hope is a good thing</td>\n",
       "    </tr>\n",
       "    <tr>\n",
       "      <th>17</th>\n",
       "      <td>小耳朵图吗</td>\n",
       "      <td>868</td>\n",
       "      <td>5</td>\n",
       "      <td>越狱我感觉就是改编自这个</td>\n",
       "    </tr>\n",
       "    <tr>\n",
       "      <th>18</th>\n",
       "      <td>挽梦忆笙歌</td>\n",
       "      <td>431</td>\n",
       "      <td>5</td>\n",
       "      <td>一部没有女主，没有爱情，没有特技的好片子，也是很多大学英语老师喜欢放给学生看的片子，这部片子...</td>\n",
       "    </tr>\n",
       "    <tr>\n",
       "      <th>19</th>\n",
       "      <td>小海</td>\n",
       "      <td>578</td>\n",
       "      <td>5</td>\n",
       "      <td>这部电影没什么好说的，史上最完美的电影，没有一秒尿尿时间！</td>\n",
       "    </tr>\n",
       "  </tbody>\n",
       "</table>\n",
       "</div>"
      ],
      "text/plain": [
       "           user_id  votes rating  \\\n",
       "0               犀牛  13789      5   \n",
       "1         kingfish  24709      5   \n",
       "2              如小果  14753      5   \n",
       "3   Eve|Classified   6644      5   \n",
       "4          711|湯行運  12035      5   \n",
       "5              文泽尔   2023      4   \n",
       "6              艾小柯   8067      5   \n",
       "7               林隐   7612      5   \n",
       "8               寂地   4370      5   \n",
       "9         seawaver   4212      5   \n",
       "10         理想多钱一斤啊   1168      4   \n",
       "11              影志   2058      5   \n",
       "12               葱   1692      5   \n",
       "13           珍妮的肖像   1429      5   \n",
       "14       veronique   1603      5   \n",
       "15              咱说    473      5   \n",
       "16              眠去    698      5   \n",
       "17           小耳朵图吗    868      5   \n",
       "18           挽梦忆笙歌    431      5   \n",
       "19              小海    578      5   \n",
       "\n",
       "                                             comments  \n",
       "0   当年的奥斯卡颁奖礼上，被如日中天的《阿甘正传》掩盖了它的光彩，而随着时间的推移，这部电影在越...  \n",
       "1                                          不需要女主角的好电影  \n",
       "2                        恐惧让你沦为囚犯，希望让你重获自由。——《肖申克的救赎》  \n",
       "3   “这是一部男人必看的电影。”人人都这么说。但单纯从性别区分，就会让这电影变狭隘。《肖申克的救...  \n",
       "4                                         策划了19年的私奔……  \n",
       "5          人的生命不过是从一个洞穴通往另一个世界..然后在那个世界的雨中继续颤抖.i hope  \n",
       "6                                        关于希望最强有力的注释。  \n",
       "7                                           有种鸟是关不住的.  \n",
       "8                                 超级喜欢超级喜欢,不看的话人生不圆满.  \n",
       "9                                     忒经典的东西,我要带去我的坟墓  \n",
       "10  Hope is a good thing, and maybe the best thing...  \n",
       "11  Fear Can Hold You Prisoner, Hope Can Set You Free  \n",
       "12                                     这样的男人谁会舍得背叛。。。  \n",
       "13                                   没有人会不喜欢吧！书和电影都好。  \n",
       "14                                 一部没有爱情与美女的电影,却光芒四射  \n",
       "15  因为1994年台湾引进了一部比较卖座的老片The Sting，被错译成了《刺激》。到了199...  \n",
       "16                               hope is a good thing  \n",
       "17                                       越狱我感觉就是改编自这个  \n",
       "18  一部没有女主，没有爱情，没有特技的好片子，也是很多大学英语老师喜欢放给学生看的片子，这部片子...  \n",
       "19                      这部电影没什么好说的，史上最完美的电影，没有一秒尿尿时间！  "
      ]
     },
     "execution_count": 11,
     "metadata": {},
     "output_type": "execute_result"
    }
   ],
   "source": [
    "columns = [\"user_id\", \"votes\", \"rating\", \"comments\"]\n",
    "dataset = [user_id, votes, rating, comments]\n",
    "df_movie = pd.DataFrame()\n",
    "for column_name, data in zip(columns, dataset):\n",
    "    df_movie[column_name] = pd.Series(data)\n",
    "df_movie "
   ]
  },
  {
   "cell_type": "markdown",
   "metadata": {},
   "source": [
    "-  \n"
   ]
  }
 ],
 "metadata": {
  "kernelspec": {
   "display_name": "Python 3",
   "language": "python",
   "name": "python3"
  },
  "language_info": {
   "codemirror_mode": {
    "name": "ipython",
    "version": 3
   },
   "file_extension": ".py",
   "mimetype": "text/x-python",
   "name": "python",
   "nbconvert_exporter": "python",
   "pygments_lexer": "ipython3",
   "version": "3.7.0"
  }
 },
 "nbformat": 4,
 "nbformat_minor": 2
}
