{
 "cells": [
  {
   "cell_type": "markdown",
   "metadata": {},
   "source": [
    "# 假设验证：检验心理学现象\n",
    "\n",
    "## 背景信息\n",
    "\n",
    "在一个Stroop （斯特鲁普）任务中，参与者得到了一列文字，每个文字都用一种油墨颜色展示。参与者的任务是将文字的打印颜色大声说出来。这项任务有两个条件：一致文字条件，和不一致文字条件。在一致文字条件中，显示的文字是与它们的打印颜色匹配的颜色词，如“红色”、“蓝色”。在不一致文字条件中，显示的文字是与它们的打印颜色不匹配的颜色词，如“紫色”、“橙色”。在每个情况中，我们将计量说出同等大小的列表中的墨色名称的时间。每位参与者必须全部完成并记录每种条件下使用的时间。\n",
    "\n",
    "## (1) 自变量是什么？因变量是什么？\n",
    "自变量是一致文字条件，因变量是不一致文字条件"
   ]
  },
  {
   "cell_type": "markdown",
   "metadata": {},
   "source": [
    "## (2) 此任务的适当假设集是什么？你想执行什么类型的统计检验？\n",
    "\n",
    "假设集是对在该网站上所有参与斯特鲁普测试并提交测试结果的人，进行随机抽样而得到的一个随机样本\n",
    "$$\n",
    "H_0(原假设): \\mu_{con} -\\mu_{incon} \\geq 0 \\\\\n",
    "H_1(备择假设): \\mu_{con} -\\mu_{incon} < 0\n",
    "$$\n",
    "- $\\mu_{con}:一致文字条件样本的平均时间$\n",
    "- $\\mu_{incon}$:不一致文字条件样本的平均时间\n",
    "\n",
    "采用T检验来进行统计检验，选择的理由：数据集中采样数据量为24 < 30,得到的数据分布为非正态分布，而是t分布，可以采用t检验"
   ]
  },
  {
   "cell_type": "markdown",
   "metadata": {},
   "source": [
    "[此链接](https://faculty.washington.edu/chudler/java/ready.html)其中包含一个基于 Java 的小程序，专门用于执行 Stroop 任务。记录你收到的任务时间（你无需将时间提交到网站）。现在下载此数据集，其中包含一些任务参与者的结果。数据集的每行包含一名参与者的表现，第一个数字代表他们的一致任务结果，第二个数字代表不一致任务结果。\n",
    "\n",
    "## (3) 报告关于此数据集的一些描述性统计。包含至少一个集中趋势测量和至少一个变异测量。"
   ]
  },
  {
   "cell_type": "code",
   "execution_count": 2,
   "metadata": {},
   "outputs": [],
   "source": [
    "import matplotlib.pyplot as plt \n",
    "plt.rcParams['font.sans-serif']=['SimHei'] #用来正常显示中文标签\n",
    "plt.rcParams['axes.unicode_minus']=False #用来正常显示负号\n",
    "\n",
    "import pandas as pd\n",
    "import numpy as np\n",
    "from scipy import stats\n",
    "%matplotlib inline"
   ]
  },
  {
   "cell_type": "code",
   "execution_count": 3,
   "metadata": {},
   "outputs": [
    {
     "name": "stdout",
     "output_type": "stream",
     "text": [
      "<class 'pandas.core.frame.DataFrame'>\n",
      "RangeIndex: 24 entries, 0 to 23\n",
      "Data columns (total 2 columns):\n",
      "Congruent      24 non-null float64\n",
      "Incongruent    24 non-null float64\n",
      "dtypes: float64(2)\n",
      "memory usage: 464.0 bytes\n"
     ]
    }
   ],
   "source": [
    "df_stroop = pd.read_csv(\"stroopdata.csv\")\n",
    "#获取数据的基本信息\n",
    "df_stroop.info()"
   ]
  },
  {
   "cell_type": "markdown",
   "metadata": {},
   "source": [
    "数据集包含Congruent和Incongruent各24条非零float的数据"
   ]
  },
  {
   "cell_type": "code",
   "execution_count": 4,
   "metadata": {},
   "outputs": [
    {
     "name": "stdout",
     "output_type": "stream",
     "text": [
      "一致文字条件, 均值： 14.051125000000004 标准差： 3.559357957645195\n"
     ]
    }
   ],
   "source": [
    "# 一致文字条件下的均值和方差\n",
    "mean_con = df_stroop.Congruent.mean()\n",
    "std_con = df_stroop.Congruent.std()\n",
    "print(\"一致文字条件, 均值：\", mean_con, \"标准差：\", std_con)"
   ]
  },
  {
   "cell_type": "code",
   "execution_count": 5,
   "metadata": {},
   "outputs": [
    {
     "name": "stdout",
     "output_type": "stream",
     "text": [
      "不一致文字条件, 均值： 22.01591666666667 标准差： 4.797057122469138\n"
     ]
    }
   ],
   "source": [
    "# 不一致文字条件下的均值和方差\n",
    "mean_incon = df_stroop.Incongruent.mean()\n",
    "std_incon = df_stroop.Incongruent.std()\n",
    "print(\"不一致文字条件, 均值：\", mean_incon, \"标准差：\", std_incon)"
   ]
  },
  {
   "cell_type": "code",
   "execution_count": 6,
   "metadata": {},
   "outputs": [
    {
     "name": "stdout",
     "output_type": "stream",
     "text": [
      "18.033520833333338\n"
     ]
    }
   ],
   "source": [
    "# 样本均值\n",
    "sample_mean= (mean_con + mean_incon) / 2\n",
    "print(sample_mean)"
   ]
  },
  {
   "cell_type": "markdown",
   "metadata": {},
   "source": [
    "## (4) 用可视化进行结果观察结果呈现"
   ]
  },
  {
   "cell_type": "code",
   "execution_count": 47,
   "metadata": {},
   "outputs": [
    {
     "data": {
      "image/png": "[encoded data removed]",
      "text/plain": [
       "<Figure size 720x360 with 1 Axes>"
      ]
     },
     "metadata": {},
     "output_type": "display_data"
    }
   ],
   "source": [
    "plt.figure(figsize=(10, 5))\n",
    "width = 0.4\n",
    "x= np.arange(df_stroop.shape[0])\n",
    "\n",
    "plt.bar(x - width/2, df_stroop.Congruent, \\\n",
    "        width = width, label = \"一致文字条件\")\n",
    "plt.bar(x + width/2, df_stroop.Incongruent, \\\n",
    "        width = width, label = \"不一致文字条件\")\n",
    "\n",
    "# 添加两条辅助线\n",
    "plt.axhline(15, color = \"red\", linestyle = \"--\")\n",
    "\n",
    "plt.ylabel(\"参与者花费时间(秒)\")\n",
    "plt.title(\"斯特鲁普任务参与者花费时间\")\n",
    "plt.xticks(range(df_stroop.shape[0]))\n",
    "plt.legend()\n",
    "plt.show();"
   ]
  },
  {
   "cell_type": "markdown",
   "metadata": {},
   "source": [
    "从上述柱状图可以看出：\n",
    "- 任意一组参与者在不一致文字条件下花费的时间均多于一致文字条件下的。\n",
    "- 不一致文字条件下参与者花费的时间多数在15秒以上，在一致文字条件下多数少于15秒。"
   ]
  },
  {
   "cell_type": "code",
   "execution_count": 40,
   "metadata": {},
   "outputs": [
    {
     "data": {
      "image/png": "[encoded data removed]",
      "text/plain": [
       "<Figure size 720x360 with 1 Axes>"
      ]
     },
     "metadata": {},
     "output_type": "display_data"
    }
   ],
   "source": [
    "plt.figure(figsize=(10, 5))\n",
    "df_stroop.boxplot()\n",
    "plt.xlabel(\"任务条件\")\n",
    "plt.ylabel(\"参与者花费时间(秒)\")\n",
    "plt.title(\"斯特鲁普任务用户花费时间箱线图\");"
   ]
  },
  {
   "cell_type": "markdown",
   "metadata": {},
   "source": [
    "由箱线图可以看到：\n",
    "- 一致文字条件下下限、Q1、中位数、Q3、上限都分别比不一致文字条件下的小。\n",
    "- 不一致文字条件存在两个异常值\n",
    "- 不一致文字条件反应时间相对来说更长一些\n",
    "- 一致文字条件和不一致文字条件的上限时间相差不大(异常值除外)。"
   ]
  },
  {
   "cell_type": "markdown",
   "metadata": {},
   "source": [
    "## (5) 执行统计测试并报告你的结果。你的置信水平和关键统计值是多少？你是否成功拒绝零假设？对试验任务得出一个结论。结果是否与你的期望一致？\n",
    "\n",
    "### T检验\n",
    "\n",
    "置信水平为95%，$\\alpha$阈值为0.05"
   ]
  },
  {
   "cell_type": "code",
   "execution_count": 8,
   "metadata": {},
   "outputs": [
    {
     "data": {
      "text/plain": [
       "Ttest_indResult(statistic=-6.5322505539032285, pvalue=6.510167390442638e-08)"
      ]
     },
     "execution_count": 8,
     "metadata": {},
     "output_type": "execute_result"
    }
   ],
   "source": [
    "stats.stats.ttest_ind(df_stroop.Congruent, df_stroop.Incongruent, equal_var=False)\n"
   ]
  },
  {
   "cell_type": "markdown",
   "metadata": {},
   "source": [
    "p远小于0.05，拒绝原假设。"
   ]
  },
  {
   "cell_type": "markdown",
   "metadata": {},
   "source": [
    "### 自助法"
   ]
  },
  {
   "cell_type": "code",
   "execution_count": 9,
   "metadata": {},
   "outputs": [],
   "source": [
    "con_mean, incon_mean = [], []\n",
    "for _ in range(10000):\n",
    "    # 执行重采样\n",
    "    samples = df_stroop.sample(df_stroop.shape[0], replace=True)\n",
    "    con_mean.append(samples.Congruent.mean())\n",
    "    incon_mean.append(samples.Incongruent.mean())\n",
    "mean_diff = pd.Series(con_mean) - pd.Series(incon_mean)"
   ]
  },
  {
   "cell_type": "code",
   "execution_count": 10,
   "metadata": {},
   "outputs": [
    {
     "data": {
      "image/png": "[encoded data removed]",
      "text/plain": [
       "<Figure size 1080x360 with 2 Axes>"
      ]
     },
     "metadata": {},
     "output_type": "display_data"
    }
   ],
   "source": [
    "fig = plt.figure(figsize=(15, 5))\n",
    "plt.subplot(121)\n",
    "plt.hist(con_mean)\n",
    "plt.hist(incon_mean)\n",
    "\n",
    "plt.subplot(122)\n",
    "low, high = np.percentile(mean_diff,  0.5), np.percentile(mean_diff, 99.5)\n",
    "plt.hist(mean_diff)\n",
    "plt.axvline(x = low, color = \"red\", linewidth = 2)\n",
    "plt.axvline(x = high, color = \"red\", linewidth = 2);"
   ]
  },
  {
   "cell_type": "markdown",
   "metadata": {},
   "source": [
    "### 结论\n",
    "一致文字条件下，参与者花费的时间小于不一致文字条件的。"
   ]
  }
 ],
 "metadata": {
  "anaconda-cloud": {},
  "kernelspec": {
   "display_name": "Python 3",
   "language": "python",
   "name": "python3"
  },
  "language_info": {
   "codemirror_mode": {
    "name": "ipython",
    "version": 3
   },
   "file_extension": ".py",
   "mimetype": "text/x-python",
   "name": "python",
   "nbconvert_exporter": "python",
   "pygments_lexer": "ipython3",
   "version": "3.6.5"
  }
 },
 "nbformat": 4,
 "nbformat_minor": 2
}
